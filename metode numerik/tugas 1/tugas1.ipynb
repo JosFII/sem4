{
 "cells": [
  {
   "cell_type": "code",
   "execution_count": 101,
   "metadata": {},
   "outputs": [],
   "source": [
    "import numpy as np\n",
    "import random\n",
    "import pandas as pd\n",
    "import seaborn as sea\n",
    "import matplotlib.pyplot as plt"
   ]
  },
  {
   "cell_type": "code",
   "execution_count": 102,
   "metadata": {},
   "outputs": [],
   "source": [
    "x=1242\n",
    "xc=[]\n",
    "yb=[]\n",
    "for y in range(100):\n",
    "    random.seed(x)\n",
    "    c=random.uniform(0.00001, 0.00099)\n",
    "    b=random.uniform(1000000, 9999999)\n",
    "    x=x+1\n",
    "    xc.append(c)\n",
    "    yb.append(b)"
   ]
  },
  {
   "cell_type": "code",
   "execution_count": 103,
   "metadata": {},
   "outputs": [
    {
     "data": {
      "text/plain": [
       "[8.757940802525823e-05,\n",
       " 0.0007246625932276515,\n",
       " 0.00027934290214242903,\n",
       " 0.0005373804300722486,\n",
       " 0.00017311104967389858,\n",
       " 0.0007684688936111034,\n",
       " 0.0005665665838806031,\n",
       " 0.0005022275351404493,\n",
       " 0.00015316667039617655,\n",
       " 0.0006952477265055133,\n",
       " 0.0007838478501395497,\n",
       " 0.0007279305688033422,\n",
       " 0.00043562498129813787,\n",
       " 0.0003905121871437314,\n",
       " 0.0005460737481375393,\n",
       " 0.0005098254322124495,\n",
       " 0.00014443868502483475,\n",
       " 0.00038800823358225447,\n",
       " 9.866997008676768e-05,\n",
       " 8.583621524262793e-05,\n",
       " 0.0001981014673717385,\n",
       " 0.0009573301576933175,\n",
       " 0.00013053012778985998,\n",
       " 1.598917119170447e-05,\n",
       " 0.0009626828421935624,\n",
       " 7.383394861184649e-05,\n",
       " 9.224367359110908e-05,\n",
       " 0.0007340669983669257,\n",
       " 0.0005676729115618884,\n",
       " 0.0003503411504511215,\n",
       " 0.00023203036299110995,\n",
       " 0.0008592016548377892,\n",
       " 0.0001257414466991865,\n",
       " 0.00064943442733659,\n",
       " 0.00025401893910839105,\n",
       " 0.00022703000125858788,\n",
       " 6.934357240590912e-05,\n",
       " 0.0007284909589469916,\n",
       " 0.0008812698225967188,\n",
       " 0.00022546319049636024,\n",
       " 6.3145631891779e-05,\n",
       " 0.00033046479626950095,\n",
       " 0.0004972690934713682,\n",
       " 0.00025688968772892454,\n",
       " 0.00033801226805387586,\n",
       " 0.0004464590408012985,\n",
       " 0.0008425346920334167,\n",
       " 0.0005732316809993311,\n",
       " 0.0008442808014902914,\n",
       " 0.0005714166596685321,\n",
       " 0.000414203612609384,\n",
       " 0.0003059928781660994,\n",
       " 0.0008863388437548043,\n",
       " 0.00010414080452127365,\n",
       " 0.0004752255925045911,\n",
       " 0.0004403635248262314,\n",
       " 0.0009446524443139337,\n",
       " 0.00032534051513200994,\n",
       " 0.00036345947919378096,\n",
       " 0.0008299325909898999,\n",
       " 0.000831651745834646,\n",
       " 0.00036864315508060037,\n",
       " 0.00039896241644263466,\n",
       " 0.0001772559489349696,\n",
       " 0.0007797238291795315,\n",
       " 0.0005730727598460334,\n",
       " 0.0004977591089294792,\n",
       " 0.0004989935845273741,\n",
       " 0.0009209748749145704,\n",
       " 0.00015202813621849066,\n",
       " 0.0005553594362712699,\n",
       " 0.0008702700226435715,\n",
       " 0.0003955118758069666,\n",
       " 0.00039273142522992696,\n",
       " 0.0002159061429984136,\n",
       " 0.0006153001076711751,\n",
       " 0.0008498025646138665,\n",
       " 0.00040533943161825525,\n",
       " 0.00015325944967585394,\n",
       " 0.0005331221582719294,\n",
       " 0.00041248834316018454,\n",
       " 0.0009379807784435902,\n",
       " 0.00047007742879112485,\n",
       " 0.0009269545423975335,\n",
       " 0.0004912544661761139,\n",
       " 0.0002380653801001364,\n",
       " 0.00014811890763018619,\n",
       " 0.00040381839942748616,\n",
       " 0.0003519924232461805,\n",
       " 0.0005755401089646894,\n",
       " 5.628284834127213e-05,\n",
       " 0.0004862476653685202,\n",
       " 0.0006624462447338402,\n",
       " 0.0007303767719748018,\n",
       " 0.0005097881682278324,\n",
       " 0.0006153977998124413,\n",
       " 0.0008597065884081717,\n",
       " 0.0006251576923006397,\n",
       " 0.0003552570395420526,\n",
       " 0.00045392459061701745]"
      ]
     },
     "execution_count": 103,
     "metadata": {},
     "output_type": "execute_result"
    }
   ],
   "source": [
    "xc"
   ]
  },
  {
   "cell_type": "code",
   "execution_count": 104,
   "metadata": {},
   "outputs": [
    {
     "data": {
      "text/plain": [
       "[3893035.745922283,\n",
       " 4299627.143197995,\n",
       " 9390647.015043197,\n",
       " 2419693.1433949172,\n",
       " 5745792.488447742,\n",
       " 1713684.965691335,\n",
       " 9405125.807721032,\n",
       " 6960221.562827839,\n",
       " 6625430.8188820835,\n",
       " 9948378.87670516,\n",
       " 3733650.6370106367,\n",
       " 7078584.283204911,\n",
       " 3432604.512150164,\n",
       " 2176218.7547097327,\n",
       " 2018803.154629896,\n",
       " 2822144.2994555747,\n",
       " 9525550.031902531,\n",
       " 7417499.057010638,\n",
       " 3946290.634347428,\n",
       " 1966927.3278108598,\n",
       " 2951016.555869225,\n",
       " 8751311.629627053,\n",
       " 4518055.327300971,\n",
       " 6289903.524197882,\n",
       " 2844177.808381881,\n",
       " 3675096.3702943684,\n",
       " 1605675.3965597341,\n",
       " 8234238.890266034,\n",
       " 3078196.733711362,\n",
       " 5875395.941674413,\n",
       " 1118706.120550178,\n",
       " 5792781.604717568,\n",
       " 3914127.2656456092,\n",
       " 9418416.26485026,\n",
       " 8352116.159857189,\n",
       " 7797141.327049133,\n",
       " 8969512.45518962,\n",
       " 6616787.885026337,\n",
       " 4239927.13267122,\n",
       " 9648224.3544021,\n",
       " 2776438.88867376,\n",
       " 1087088.0568429874,\n",
       " 5357830.646482259,\n",
       " 4653315.743119577,\n",
       " 1011155.2747149064,\n",
       " 9025343.70137161,\n",
       " 6728055.063008332,\n",
       " 6935502.798737122,\n",
       " 9957419.157447265,\n",
       " 4487930.776324494,\n",
       " 5856656.892960496,\n",
       " 1474921.9695773236,\n",
       " 4240044.869158465,\n",
       " 8151007.009420588,\n",
       " 4244051.302780511,\n",
       " 9063978.272881888,\n",
       " 2747107.427125468,\n",
       " 7370797.039044173,\n",
       " 4530698.623241013,\n",
       " 5483558.822825961,\n",
       " 2120909.0088595245,\n",
       " 8869518.408560062,\n",
       " 8642866.826808225,\n",
       " 4560227.52261465,\n",
       " 5321724.388991263,\n",
       " 7259325.744866377,\n",
       " 2619282.9773594756,\n",
       " 7543982.552555137,\n",
       " 6187260.140612746,\n",
       " 3914640.4145044843,\n",
       " 5560132.738450274,\n",
       " 8933331.394106569,\n",
       " 4796816.210350612,\n",
       " 4448839.942383483,\n",
       " 3226762.014849194,\n",
       " 3866881.9455284723,\n",
       " 3510811.0184470853,\n",
       " 8914006.787127182,\n",
       " 5916395.581588179,\n",
       " 4994553.50966864,\n",
       " 3630193.237818885,\n",
       " 4980323.127265805,\n",
       " 4508650.194393219,\n",
       " 9223655.38595408,\n",
       " 9758713.069760371,\n",
       " 5727366.374890214,\n",
       " 5638025.320168609,\n",
       " 2382020.956554735,\n",
       " 2462879.5922350213,\n",
       " 5366298.826230699,\n",
       " 4453464.971281849,\n",
       " 9366962.379754204,\n",
       " 7770568.845309444,\n",
       " 9920061.841989316,\n",
       " 1942992.5854661164,\n",
       " 5799389.629179434,\n",
       " 7253179.720553033,\n",
       " 3478032.018622476,\n",
       " 8695478.328272022,\n",
       " 6133791.089941932]"
      ]
     },
     "execution_count": 104,
     "metadata": {},
     "output_type": "execute_result"
    }
   ],
   "source": [
    "yb"
   ]
  },
  {
   "cell_type": "code",
   "execution_count": 105,
   "metadata": {},
   "outputs": [],
   "source": [
    "frame=pd.DataFrame({\"xc\":xc,\"yb\":yb})"
   ]
  },
  {
   "cell_type": "code",
   "execution_count": 106,
   "metadata": {},
   "outputs": [
    {
     "data": {
      "text/html": [
       "<div>\n",
       "<style scoped>\n",
       "    .dataframe tbody tr th:only-of-type {\n",
       "        vertical-align: middle;\n",
       "    }\n",
       "\n",
       "    .dataframe tbody tr th {\n",
       "        vertical-align: top;\n",
       "    }\n",
       "\n",
       "    .dataframe thead th {\n",
       "        text-align: right;\n",
       "    }\n",
       "</style>\n",
       "<table border=\"1\" class=\"dataframe\">\n",
       "  <thead>\n",
       "    <tr style=\"text-align: right;\">\n",
       "      <th></th>\n",
       "      <th>xc</th>\n",
       "      <th>yb</th>\n",
       "    </tr>\n",
       "  </thead>\n",
       "  <tbody>\n",
       "    <tr>\n",
       "      <th>0</th>\n",
       "      <td>0.000088</td>\n",
       "      <td>3.893036e+06</td>\n",
       "    </tr>\n",
       "    <tr>\n",
       "      <th>1</th>\n",
       "      <td>0.000725</td>\n",
       "      <td>4.299627e+06</td>\n",
       "    </tr>\n",
       "    <tr>\n",
       "      <th>2</th>\n",
       "      <td>0.000279</td>\n",
       "      <td>9.390647e+06</td>\n",
       "    </tr>\n",
       "    <tr>\n",
       "      <th>3</th>\n",
       "      <td>0.000537</td>\n",
       "      <td>2.419693e+06</td>\n",
       "    </tr>\n",
       "    <tr>\n",
       "      <th>4</th>\n",
       "      <td>0.000173</td>\n",
       "      <td>5.745792e+06</td>\n",
       "    </tr>\n",
       "    <tr>\n",
       "      <th>...</th>\n",
       "      <td>...</td>\n",
       "      <td>...</td>\n",
       "    </tr>\n",
       "    <tr>\n",
       "      <th>95</th>\n",
       "      <td>0.000615</td>\n",
       "      <td>5.799390e+06</td>\n",
       "    </tr>\n",
       "    <tr>\n",
       "      <th>96</th>\n",
       "      <td>0.000860</td>\n",
       "      <td>7.253180e+06</td>\n",
       "    </tr>\n",
       "    <tr>\n",
       "      <th>97</th>\n",
       "      <td>0.000625</td>\n",
       "      <td>3.478032e+06</td>\n",
       "    </tr>\n",
       "    <tr>\n",
       "      <th>98</th>\n",
       "      <td>0.000355</td>\n",
       "      <td>8.695478e+06</td>\n",
       "    </tr>\n",
       "    <tr>\n",
       "      <th>99</th>\n",
       "      <td>0.000454</td>\n",
       "      <td>6.133791e+06</td>\n",
       "    </tr>\n",
       "  </tbody>\n",
       "</table>\n",
       "<p>100 rows × 2 columns</p>\n",
       "</div>"
      ],
      "text/plain": [
       "          xc            yb\n",
       "0   0.000088  3.893036e+06\n",
       "1   0.000725  4.299627e+06\n",
       "2   0.000279  9.390647e+06\n",
       "3   0.000537  2.419693e+06\n",
       "4   0.000173  5.745792e+06\n",
       "..       ...           ...\n",
       "95  0.000615  5.799390e+06\n",
       "96  0.000860  7.253180e+06\n",
       "97  0.000625  3.478032e+06\n",
       "98  0.000355  8.695478e+06\n",
       "99  0.000454  6.133791e+06\n",
       "\n",
       "[100 rows x 2 columns]"
      ]
     },
     "execution_count": 106,
     "metadata": {},
     "output_type": "execute_result"
    }
   ],
   "source": [
    "frame"
   ]
  },
  {
   "cell_type": "code",
   "execution_count": 107,
   "metadata": {},
   "outputs": [],
   "source": [
    "dataR=frame.astype(np.float32)\n",
    "dataT=frame.astype(np.float64)"
   ]
  },
  {
   "cell_type": "code",
   "execution_count": 108,
   "metadata": {},
   "outputs": [
    {
     "data": {
      "text/html": [
       "<div>\n",
       "<style scoped>\n",
       "    .dataframe tbody tr th:only-of-type {\n",
       "        vertical-align: middle;\n",
       "    }\n",
       "\n",
       "    .dataframe tbody tr th {\n",
       "        vertical-align: top;\n",
       "    }\n",
       "\n",
       "    .dataframe thead th {\n",
       "        text-align: right;\n",
       "    }\n",
       "</style>\n",
       "<table border=\"1\" class=\"dataframe\">\n",
       "  <thead>\n",
       "    <tr style=\"text-align: right;\">\n",
       "      <th></th>\n",
       "      <th>xc</th>\n",
       "      <th>yb</th>\n",
       "    </tr>\n",
       "  </thead>\n",
       "  <tbody>\n",
       "    <tr>\n",
       "      <th>0</th>\n",
       "      <td>0.000088</td>\n",
       "      <td>3893035.75</td>\n",
       "    </tr>\n",
       "    <tr>\n",
       "      <th>1</th>\n",
       "      <td>0.000725</td>\n",
       "      <td>4299627.00</td>\n",
       "    </tr>\n",
       "    <tr>\n",
       "      <th>2</th>\n",
       "      <td>0.000279</td>\n",
       "      <td>9390647.00</td>\n",
       "    </tr>\n",
       "    <tr>\n",
       "      <th>3</th>\n",
       "      <td>0.000537</td>\n",
       "      <td>2419693.25</td>\n",
       "    </tr>\n",
       "    <tr>\n",
       "      <th>4</th>\n",
       "      <td>0.000173</td>\n",
       "      <td>5745792.50</td>\n",
       "    </tr>\n",
       "    <tr>\n",
       "      <th>...</th>\n",
       "      <td>...</td>\n",
       "      <td>...</td>\n",
       "    </tr>\n",
       "    <tr>\n",
       "      <th>95</th>\n",
       "      <td>0.000615</td>\n",
       "      <td>5799389.50</td>\n",
       "    </tr>\n",
       "    <tr>\n",
       "      <th>96</th>\n",
       "      <td>0.000860</td>\n",
       "      <td>7253179.50</td>\n",
       "    </tr>\n",
       "    <tr>\n",
       "      <th>97</th>\n",
       "      <td>0.000625</td>\n",
       "      <td>3478032.00</td>\n",
       "    </tr>\n",
       "    <tr>\n",
       "      <th>98</th>\n",
       "      <td>0.000355</td>\n",
       "      <td>8695478.00</td>\n",
       "    </tr>\n",
       "    <tr>\n",
       "      <th>99</th>\n",
       "      <td>0.000454</td>\n",
       "      <td>6133791.00</td>\n",
       "    </tr>\n",
       "  </tbody>\n",
       "</table>\n",
       "<p>100 rows × 2 columns</p>\n",
       "</div>"
      ],
      "text/plain": [
       "          xc          yb\n",
       "0   0.000088  3893035.75\n",
       "1   0.000725  4299627.00\n",
       "2   0.000279  9390647.00\n",
       "3   0.000537  2419693.25\n",
       "4   0.000173  5745792.50\n",
       "..       ...         ...\n",
       "95  0.000615  5799389.50\n",
       "96  0.000860  7253179.50\n",
       "97  0.000625  3478032.00\n",
       "98  0.000355  8695478.00\n",
       "99  0.000454  6133791.00\n",
       "\n",
       "[100 rows x 2 columns]"
      ]
     },
     "execution_count": 108,
     "metadata": {},
     "output_type": "execute_result"
    }
   ],
   "source": [
    "dataR"
   ]
  },
  {
   "cell_type": "code",
   "execution_count": 109,
   "metadata": {},
   "outputs": [
    {
     "data": {
      "text/html": [
       "<div>\n",
       "<style scoped>\n",
       "    .dataframe tbody tr th:only-of-type {\n",
       "        vertical-align: middle;\n",
       "    }\n",
       "\n",
       "    .dataframe tbody tr th {\n",
       "        vertical-align: top;\n",
       "    }\n",
       "\n",
       "    .dataframe thead th {\n",
       "        text-align: right;\n",
       "    }\n",
       "</style>\n",
       "<table border=\"1\" class=\"dataframe\">\n",
       "  <thead>\n",
       "    <tr style=\"text-align: right;\">\n",
       "      <th></th>\n",
       "      <th>xc</th>\n",
       "      <th>yb</th>\n",
       "    </tr>\n",
       "  </thead>\n",
       "  <tbody>\n",
       "    <tr>\n",
       "      <th>0</th>\n",
       "      <td>0.000088</td>\n",
       "      <td>3.893036e+06</td>\n",
       "    </tr>\n",
       "    <tr>\n",
       "      <th>1</th>\n",
       "      <td>0.000725</td>\n",
       "      <td>4.299627e+06</td>\n",
       "    </tr>\n",
       "    <tr>\n",
       "      <th>2</th>\n",
       "      <td>0.000279</td>\n",
       "      <td>9.390647e+06</td>\n",
       "    </tr>\n",
       "    <tr>\n",
       "      <th>3</th>\n",
       "      <td>0.000537</td>\n",
       "      <td>2.419693e+06</td>\n",
       "    </tr>\n",
       "    <tr>\n",
       "      <th>4</th>\n",
       "      <td>0.000173</td>\n",
       "      <td>5.745792e+06</td>\n",
       "    </tr>\n",
       "    <tr>\n",
       "      <th>...</th>\n",
       "      <td>...</td>\n",
       "      <td>...</td>\n",
       "    </tr>\n",
       "    <tr>\n",
       "      <th>95</th>\n",
       "      <td>0.000615</td>\n",
       "      <td>5.799390e+06</td>\n",
       "    </tr>\n",
       "    <tr>\n",
       "      <th>96</th>\n",
       "      <td>0.000860</td>\n",
       "      <td>7.253180e+06</td>\n",
       "    </tr>\n",
       "    <tr>\n",
       "      <th>97</th>\n",
       "      <td>0.000625</td>\n",
       "      <td>3.478032e+06</td>\n",
       "    </tr>\n",
       "    <tr>\n",
       "      <th>98</th>\n",
       "      <td>0.000355</td>\n",
       "      <td>8.695478e+06</td>\n",
       "    </tr>\n",
       "    <tr>\n",
       "      <th>99</th>\n",
       "      <td>0.000454</td>\n",
       "      <td>6.133791e+06</td>\n",
       "    </tr>\n",
       "  </tbody>\n",
       "</table>\n",
       "<p>100 rows × 2 columns</p>\n",
       "</div>"
      ],
      "text/plain": [
       "          xc            yb\n",
       "0   0.000088  3.893036e+06\n",
       "1   0.000725  4.299627e+06\n",
       "2   0.000279  9.390647e+06\n",
       "3   0.000537  2.419693e+06\n",
       "4   0.000173  5.745792e+06\n",
       "..       ...           ...\n",
       "95  0.000615  5.799390e+06\n",
       "96  0.000860  7.253180e+06\n",
       "97  0.000625  3.478032e+06\n",
       "98  0.000355  8.695478e+06\n",
       "99  0.000454  6.133791e+06\n",
       "\n",
       "[100 rows x 2 columns]"
      ]
     },
     "execution_count": 109,
     "metadata": {},
     "output_type": "execute_result"
    }
   ],
   "source": [
    "dataT"
   ]
  },
  {
   "cell_type": "code",
   "execution_count": 126,
   "metadata": {},
   "outputs": [
    {
     "name": "stdout",
     "output_type": "stream",
     "text": [
      "nilai mean f32: 0.00047283235  dan  5530939.5\n",
      "nilai mean f64: 0.0004728323749064097  dan  5530939.379675194\n",
      "Perbedaan Mean: 2.018945308244341e-11 dan 0.12032480631023645\n"
     ]
    }
   ],
   "source": [
    "meanR1=np.mean(dataR[\"xc\"])\n",
    "meanR2=np.mean(dataR[\"yb\"])\n",
    "meanT1=np.mean(dataT[\"xc\"])\n",
    "meanT2=np.mean(dataT[\"yb\"])\n",
    "print(\"nilai mean f32:\",meanR1,\" dan \",meanR2)\n",
    "print(\"nilai mean f64:\",meanT1,\" dan \",meanT2)\n",
    "print(f\"Perbedaan Mean: {abs(meanR1- meanT1)} dan {abs(meanR2- meanT2)}\")"
   ]
  },
  {
   "cell_type": "code",
   "execution_count": 127,
   "metadata": {},
   "outputs": [
    {
     "name": "stdout",
     "output_type": "stream",
     "text": [
      "nilai varians f32: 6.900365e-08  dan  6490596300000.0\n",
      "nilai varians f64: 6.900364982875588e-08  dan  6490596413402.332\n",
      "Perbedaan varians: 2.5881495102796277e-15 dan 102362.33203125\n"
     ]
    }
   ],
   "source": [
    "varR1=np.var(dataR[\"xc\"])\n",
    "varR2=np.var(dataR[\"yb\"])\n",
    "varT1=np.var(dataT[\"xc\"])\n",
    "varT2=np.var(dataT[\"yb\"])\n",
    "print(\"nilai varians f32:\",varR1,\" dan \",varR2)\n",
    "print(\"nilai varians f64:\",varT1,\" dan \",varT2)\n",
    "print(f\"Perbedaan varians: {abs(varR1- varT1)} dan {abs(varR2- varT2)}\")"
   ]
  },
  {
   "cell_type": "code",
   "execution_count": 112,
   "metadata": {},
   "outputs": [
    {
     "data": {
      "text/plain": [
       "np.float64(2765469.690074013)"
      ]
     },
     "execution_count": 112,
     "metadata": {},
     "output_type": "execute_result"
    }
   ],
   "source": [
    "np.mean(frame)"
   ]
  },
  {
   "cell_type": "code",
   "execution_count": null,
   "metadata": {},
   "outputs": [],
   "source": []
  },
  {
   "cell_type": "code",
   "execution_count": 113,
   "metadata": {},
   "outputs": [
    {
     "data": {
      "text/html": [
       "<div>\n",
       "<style scoped>\n",
       "    .dataframe tbody tr th:only-of-type {\n",
       "        vertical-align: middle;\n",
       "    }\n",
       "\n",
       "    .dataframe tbody tr th {\n",
       "        vertical-align: top;\n",
       "    }\n",
       "\n",
       "    .dataframe thead th {\n",
       "        text-align: right;\n",
       "    }\n",
       "</style>\n",
       "<table border=\"1\" class=\"dataframe\">\n",
       "  <thead>\n",
       "    <tr style=\"text-align: right;\">\n",
       "      <th></th>\n",
       "      <th>xc</th>\n",
       "      <th>yb</th>\n",
       "    </tr>\n",
       "  </thead>\n",
       "  <tbody>\n",
       "    <tr>\n",
       "      <th>xc</th>\n",
       "      <td>1.00000</td>\n",
       "      <td>0.11984</td>\n",
       "    </tr>\n",
       "    <tr>\n",
       "      <th>yb</th>\n",
       "      <td>0.11984</td>\n",
       "      <td>1.00000</td>\n",
       "    </tr>\n",
       "  </tbody>\n",
       "</table>\n",
       "</div>"
      ],
      "text/plain": [
       "         xc       yb\n",
       "xc  1.00000  0.11984\n",
       "yb  0.11984  1.00000"
      ]
     },
     "execution_count": 113,
     "metadata": {},
     "output_type": "execute_result"
    }
   ],
   "source": [
    "correlation=dataR.corr()\n",
    "correlation"
   ]
  },
  {
   "cell_type": "code",
   "execution_count": 114,
   "metadata": {},
   "outputs": [
    {
     "data": {
      "text/html": [
       "<div>\n",
       "<style scoped>\n",
       "    .dataframe tbody tr th:only-of-type {\n",
       "        vertical-align: middle;\n",
       "    }\n",
       "\n",
       "    .dataframe tbody tr th {\n",
       "        vertical-align: top;\n",
       "    }\n",
       "\n",
       "    .dataframe thead th {\n",
       "        text-align: right;\n",
       "    }\n",
       "</style>\n",
       "<table border=\"1\" class=\"dataframe\">\n",
       "  <thead>\n",
       "    <tr style=\"text-align: right;\">\n",
       "      <th></th>\n",
       "      <th>xc</th>\n",
       "      <th>yb</th>\n",
       "    </tr>\n",
       "  </thead>\n",
       "  <tbody>\n",
       "    <tr>\n",
       "      <th>xc</th>\n",
       "      <td>1.00000</td>\n",
       "      <td>0.11984</td>\n",
       "    </tr>\n",
       "    <tr>\n",
       "      <th>yb</th>\n",
       "      <td>0.11984</td>\n",
       "      <td>1.00000</td>\n",
       "    </tr>\n",
       "  </tbody>\n",
       "</table>\n",
       "</div>"
      ],
      "text/plain": [
       "         xc       yb\n",
       "xc  1.00000  0.11984\n",
       "yb  0.11984  1.00000"
      ]
     },
     "execution_count": 114,
     "metadata": {},
     "output_type": "execute_result"
    }
   ],
   "source": [
    "correlation2=dataT.corr()\n",
    "correlation2"
   ]
  },
  {
   "cell_type": "code",
   "execution_count": 115,
   "metadata": {},
   "outputs": [],
   "source": [
    "def kahan_sum(numbers):\n",
    "    total = 0.0\n",
    "    compensation = 0.0\n",
    "    for num in numbers:\n",
    "        y = num - compensation\n",
    "        t = total + y\n",
    "        compensation = (t - total) - y\n",
    "        total = t\n",
    "    return total"
   ]
  },
  {
   "cell_type": "code",
   "execution_count": 116,
   "metadata": {},
   "outputs": [
    {
     "data": {
      "text/plain": [
       "553093937.9675194"
      ]
     },
     "execution_count": 116,
     "metadata": {},
     "output_type": "execute_result"
    }
   ],
   "source": [
    "kahan_sum(frame['yb'])"
   ]
  },
  {
   "cell_type": "code",
   "execution_count": 117,
   "metadata": {},
   "outputs": [
    {
     "data": {
      "text/plain": [
       "np.float64(553093937.9675194)"
      ]
     },
     "execution_count": 117,
     "metadata": {},
     "output_type": "execute_result"
    }
   ],
   "source": [
    "np.sum(frame[\"yb\"])"
   ]
  },
  {
   "cell_type": "code",
   "execution_count": 118,
   "metadata": {},
   "outputs": [
    {
     "data": {
      "text/plain": [
       "np.float32(553093950.0)"
      ]
     },
     "execution_count": 118,
     "metadata": {},
     "output_type": "execute_result"
    }
   ],
   "source": [
    "np.sum(dataR[\"yb\"])"
   ]
  },
  {
   "cell_type": "code",
   "execution_count": 128,
   "metadata": {},
   "outputs": [
    {
     "data": {
      "text/plain": [
       "553093936.125"
      ]
     },
     "execution_count": 128,
     "metadata": {},
     "output_type": "execute_result"
    }
   ],
   "source": [
    "kahan_sum(dataR[\"yb\"])"
   ]
  },
  {
   "cell_type": "code",
   "execution_count": 119,
   "metadata": {},
   "outputs": [
    {
     "data": {
      "text/plain": [
       "np.float64(553093937.9675194)"
      ]
     },
     "execution_count": 119,
     "metadata": {},
     "output_type": "execute_result"
    }
   ],
   "source": [
    "np.sum(dataT[\"yb\"])"
   ]
  },
  {
   "cell_type": "code",
   "execution_count": 129,
   "metadata": {},
   "outputs": [
    {
     "data": {
      "text/plain": [
       "553093937.9675194"
      ]
     },
     "execution_count": 129,
     "metadata": {},
     "output_type": "execute_result"
    }
   ],
   "source": [
    "kahan_sum(dataT[\"yb\"])"
   ]
  },
  {
   "cell_type": "code",
   "execution_count": 120,
   "metadata": {},
   "outputs": [],
   "source": [
    "def z_score_normalization(data):\n",
    "    mean = np.mean(data)\n",
    "    std = np.std(data)\n",
    "    return (data - mean) / std"
   ]
  },
  {
   "cell_type": "code",
   "execution_count": 134,
   "metadata": {},
   "outputs": [
    {
     "data": {
      "text/html": [
       "<div>\n",
       "<style scoped>\n",
       "    .dataframe tbody tr th:only-of-type {\n",
       "        vertical-align: middle;\n",
       "    }\n",
       "\n",
       "    .dataframe tbody tr th {\n",
       "        vertical-align: top;\n",
       "    }\n",
       "\n",
       "    .dataframe thead th {\n",
       "        text-align: right;\n",
       "    }\n",
       "</style>\n",
       "<table border=\"1\" class=\"dataframe\">\n",
       "  <thead>\n",
       "    <tr style=\"text-align: right;\">\n",
       "      <th></th>\n",
       "      <th>xc</th>\n",
       "      <th>yb</th>\n",
       "    </tr>\n",
       "  </thead>\n",
       "  <tbody>\n",
       "    <tr>\n",
       "      <th>0</th>\n",
       "      <td>-1.466594</td>\n",
       "      <td>-0.642904</td>\n",
       "    </tr>\n",
       "    <tr>\n",
       "      <th>1</th>\n",
       "      <td>0.958676</td>\n",
       "      <td>-0.483310</td>\n",
       "    </tr>\n",
       "    <tr>\n",
       "      <th>2</th>\n",
       "      <td>-0.736582</td>\n",
       "      <td>1.514998</td>\n",
       "    </tr>\n",
       "    <tr>\n",
       "      <th>3</th>\n",
       "      <td>0.245724</td>\n",
       "      <td>-1.221215</td>\n",
       "    </tr>\n",
       "    <tr>\n",
       "      <th>4</th>\n",
       "      <td>-1.140989</td>\n",
       "      <td>0.084333</td>\n",
       "    </tr>\n",
       "    <tr>\n",
       "      <th>...</th>\n",
       "      <td>...</td>\n",
       "      <td>...</td>\n",
       "    </tr>\n",
       "    <tr>\n",
       "      <th>95</th>\n",
       "      <td>0.542723</td>\n",
       "      <td>0.105371</td>\n",
       "    </tr>\n",
       "    <tr>\n",
       "      <th>96</th>\n",
       "      <td>1.472766</td>\n",
       "      <td>0.676007</td>\n",
       "    </tr>\n",
       "    <tr>\n",
       "      <th>97</th>\n",
       "      <td>0.579877</td>\n",
       "      <td>-0.805800</td>\n",
       "    </tr>\n",
       "    <tr>\n",
       "      <th>98</th>\n",
       "      <td>-0.447590</td>\n",
       "      <td>1.242133</td>\n",
       "    </tr>\n",
       "    <tr>\n",
       "      <th>99</th>\n",
       "      <td>-0.071979</td>\n",
       "      <td>0.236629</td>\n",
       "    </tr>\n",
       "  </tbody>\n",
       "</table>\n",
       "<p>100 rows × 2 columns</p>\n",
       "</div>"
      ],
      "text/plain": [
       "          xc        yb\n",
       "0  -1.466594 -0.642904\n",
       "1   0.958676 -0.483310\n",
       "2  -0.736582  1.514998\n",
       "3   0.245724 -1.221215\n",
       "4  -1.140989  0.084333\n",
       "..       ...       ...\n",
       "95  0.542723  0.105371\n",
       "96  1.472766  0.676007\n",
       "97  0.579877 -0.805800\n",
       "98 -0.447590  1.242133\n",
       "99 -0.071979  0.236629\n",
       "\n",
       "[100 rows x 2 columns]"
      ]
     },
     "execution_count": 134,
     "metadata": {},
     "output_type": "execute_result"
    }
   ],
   "source": [
    "zframe1=z_score_normalization(dataT['xc'])\n",
    "zframe2=z_score_normalization(dataT['yb'])\n",
    "zframe=pd.DataFrame({\"xc\":zframe1,\"yb\":zframe2})\n",
    "zframe"
   ]
  },
  {
   "cell_type": "code",
   "execution_count": 122,
   "metadata": {},
   "outputs": [],
   "source": [
    "zmean1=np.mean(zframe['xc'])\n",
    "zmean2=np.mean(zframe['yb'])\n",
    "zvar1=np.var(zframe['xc'])\n",
    "zvar2=np.var(zframe['yb'])\n",
    "zcorrel=zframe.corr()"
   ]
  },
  {
   "cell_type": "code",
   "execution_count": 123,
   "metadata": {},
   "outputs": [
    {
     "data": {
      "text/plain": [
       "np.float64(2.1191381982532675e-16)"
      ]
     },
     "execution_count": 123,
     "metadata": {},
     "output_type": "execute_result"
    }
   ],
   "source": [
    "zmean1"
   ]
  },
  {
   "cell_type": "code",
   "execution_count": 124,
   "metadata": {},
   "outputs": [
    {
     "name": "stdout",
     "output_type": "stream",
     "text": [
      "mean:  2.1191381982532675e-16 , 1.0630385460785874e-16\n",
      "var:   1.0000000000000002 , 1.0000000000000002\n"
     ]
    }
   ],
   "source": [
    "print(\"mean: \",zmean1,\",\",zmean2)\n",
    "print(\"var:  \",zvar1,\",\",zvar2)\n"
   ]
  },
  {
   "cell_type": "code",
   "execution_count": 125,
   "metadata": {},
   "outputs": [
    {
     "data": {
      "text/html": [
       "<div>\n",
       "<style scoped>\n",
       "    .dataframe tbody tr th:only-of-type {\n",
       "        vertical-align: middle;\n",
       "    }\n",
       "\n",
       "    .dataframe tbody tr th {\n",
       "        vertical-align: top;\n",
       "    }\n",
       "\n",
       "    .dataframe thead th {\n",
       "        text-align: right;\n",
       "    }\n",
       "</style>\n",
       "<table border=\"1\" class=\"dataframe\">\n",
       "  <thead>\n",
       "    <tr style=\"text-align: right;\">\n",
       "      <th></th>\n",
       "      <th>xc</th>\n",
       "      <th>yb</th>\n",
       "    </tr>\n",
       "  </thead>\n",
       "  <tbody>\n",
       "    <tr>\n",
       "      <th>xc</th>\n",
       "      <td>1.00000</td>\n",
       "      <td>0.11984</td>\n",
       "    </tr>\n",
       "    <tr>\n",
       "      <th>yb</th>\n",
       "      <td>0.11984</td>\n",
       "      <td>1.00000</td>\n",
       "    </tr>\n",
       "  </tbody>\n",
       "</table>\n",
       "</div>"
      ],
      "text/plain": [
       "         xc       yb\n",
       "xc  1.00000  0.11984\n",
       "yb  0.11984  1.00000"
      ]
     },
     "execution_count": 125,
     "metadata": {},
     "output_type": "execute_result"
    }
   ],
   "source": [
    "zcorrel"
   ]
  },
  {
   "cell_type": "code",
   "execution_count": 133,
   "metadata": {},
   "outputs": [
    {
     "data": {
      "text/html": [
       "<div>\n",
       "<style scoped>\n",
       "    .dataframe tbody tr th:only-of-type {\n",
       "        vertical-align: middle;\n",
       "    }\n",
       "\n",
       "    .dataframe tbody tr th {\n",
       "        vertical-align: top;\n",
       "    }\n",
       "\n",
       "    .dataframe thead th {\n",
       "        text-align: right;\n",
       "    }\n",
       "</style>\n",
       "<table border=\"1\" class=\"dataframe\">\n",
       "  <thead>\n",
       "    <tr style=\"text-align: right;\">\n",
       "      <th></th>\n",
       "      <th>xc</th>\n",
       "      <th>yb</th>\n",
       "    </tr>\n",
       "  </thead>\n",
       "  <tbody>\n",
       "    <tr>\n",
       "      <th>0</th>\n",
       "      <td>-1.466594</td>\n",
       "      <td>-0.642904</td>\n",
       "    </tr>\n",
       "    <tr>\n",
       "      <th>1</th>\n",
       "      <td>0.958676</td>\n",
       "      <td>-0.483310</td>\n",
       "    </tr>\n",
       "    <tr>\n",
       "      <th>2</th>\n",
       "      <td>-0.736582</td>\n",
       "      <td>1.514998</td>\n",
       "    </tr>\n",
       "    <tr>\n",
       "      <th>3</th>\n",
       "      <td>0.245724</td>\n",
       "      <td>-1.221215</td>\n",
       "    </tr>\n",
       "    <tr>\n",
       "      <th>4</th>\n",
       "      <td>-1.140989</td>\n",
       "      <td>0.084333</td>\n",
       "    </tr>\n",
       "    <tr>\n",
       "      <th>...</th>\n",
       "      <td>...</td>\n",
       "      <td>...</td>\n",
       "    </tr>\n",
       "    <tr>\n",
       "      <th>95</th>\n",
       "      <td>0.542723</td>\n",
       "      <td>0.105371</td>\n",
       "    </tr>\n",
       "    <tr>\n",
       "      <th>96</th>\n",
       "      <td>1.472766</td>\n",
       "      <td>0.676007</td>\n",
       "    </tr>\n",
       "    <tr>\n",
       "      <th>97</th>\n",
       "      <td>0.579877</td>\n",
       "      <td>-0.805800</td>\n",
       "    </tr>\n",
       "    <tr>\n",
       "      <th>98</th>\n",
       "      <td>-0.447590</td>\n",
       "      <td>1.242133</td>\n",
       "    </tr>\n",
       "    <tr>\n",
       "      <th>99</th>\n",
       "      <td>-0.071979</td>\n",
       "      <td>0.236629</td>\n",
       "    </tr>\n",
       "  </tbody>\n",
       "</table>\n",
       "<p>100 rows × 2 columns</p>\n",
       "</div>"
      ],
      "text/plain": [
       "          xc        yb\n",
       "0  -1.466594 -0.642904\n",
       "1   0.958676 -0.483310\n",
       "2  -0.736582  1.514998\n",
       "3   0.245724 -1.221215\n",
       "4  -1.140989  0.084333\n",
       "..       ...       ...\n",
       "95  0.542723  0.105371\n",
       "96  1.472766  0.676007\n",
       "97  0.579877 -0.805800\n",
       "98 -0.447590  1.242133\n",
       "99 -0.071979  0.236629\n",
       "\n",
       "[100 rows x 2 columns]"
      ]
     },
     "execution_count": 133,
     "metadata": {},
     "output_type": "execute_result"
    }
   ],
   "source": [
    "zframe11=z_score_normalization(dataR['xc'])\n",
    "zframe21=z_score_normalization(dataR['yb'])\n",
    "zframe22=pd.DataFrame({\"xc\":zframe11,\"yb\":zframe21})\n",
    "zframe22"
   ]
  },
  {
   "cell_type": "code",
   "execution_count": 136,
   "metadata": {},
   "outputs": [],
   "source": [
    "zmean3=np.mean(zframe22['xc'])\n",
    "zmean4=np.mean(zframe22['yb'])\n",
    "zvar3=np.var(zframe22['xc'])\n",
    "zvar4=np.var(zframe22['yb'])\n",
    "zcorre2=zframe22.corr()"
   ]
  },
  {
   "cell_type": "code",
   "execution_count": 137,
   "metadata": {},
   "outputs": [
    {
     "name": "stdout",
     "output_type": "stream",
     "text": [
      "mean:  6.854534e-08 , -6.273389e-08\n",
      "var:   1.0000001 , 1.0000001\n"
     ]
    }
   ],
   "source": [
    "print(\"mean: \",zmean3,\",\",zmean4)\n",
    "print(\"var:  \",zvar3,\",\",zvar4)"
   ]
  },
  {
   "cell_type": "code",
   "execution_count": 138,
   "metadata": {},
   "outputs": [
    {
     "data": {
      "text/html": [
       "<div>\n",
       "<style scoped>\n",
       "    .dataframe tbody tr th:only-of-type {\n",
       "        vertical-align: middle;\n",
       "    }\n",
       "\n",
       "    .dataframe tbody tr th {\n",
       "        vertical-align: top;\n",
       "    }\n",
       "\n",
       "    .dataframe thead th {\n",
       "        text-align: right;\n",
       "    }\n",
       "</style>\n",
       "<table border=\"1\" class=\"dataframe\">\n",
       "  <thead>\n",
       "    <tr style=\"text-align: right;\">\n",
       "      <th></th>\n",
       "      <th>xc</th>\n",
       "      <th>yb</th>\n",
       "    </tr>\n",
       "  </thead>\n",
       "  <tbody>\n",
       "    <tr>\n",
       "      <th>xc</th>\n",
       "      <td>1.00000</td>\n",
       "      <td>0.11984</td>\n",
       "    </tr>\n",
       "    <tr>\n",
       "      <th>yb</th>\n",
       "      <td>0.11984</td>\n",
       "      <td>1.00000</td>\n",
       "    </tr>\n",
       "  </tbody>\n",
       "</table>\n",
       "</div>"
      ],
      "text/plain": [
       "         xc       yb\n",
       "xc  1.00000  0.11984\n",
       "yb  0.11984  1.00000"
      ]
     },
     "execution_count": 138,
     "metadata": {},
     "output_type": "execute_result"
    }
   ],
   "source": [
    "zcorre2"
   ]
  },
  {
   "cell_type": "code",
   "execution_count": 139,
   "metadata": {},
   "outputs": [
    {
     "name": "stdout",
     "output_type": "stream",
     "text": [
      "Perbedaan Mean: 6.854533985869992e-08 dan 6.273388930083667e-08\n",
      "Perbedaan var: 1.1920928932873665e-07 dan 1.1920928932873665e-07\n"
     ]
    }
   ],
   "source": [
    "print(f\"Perbedaan Mean: {abs(zmean1- zmean3)} dan {abs(zmean2- zmean4)}\")\n",
    "print(f\"Perbedaan var: {abs(zvar1- zvar3)} dan {abs(zvar2- zvar4)}\")"
   ]
  },
  {
   "cell_type": "markdown",
   "metadata": {},
   "source": [
    "bisa dilihat bahwa terdapat error pembulatan, hal ini yang menyebabkan berbedanya hasil perhitungan float 32 dengan float 64. hal tersebut terjadi karena float 32 mrnyimpan jumlah digit yang lebih kecil dibanding float 64, maka pada float 32 terjadi pembulatan, dan itu penyebab error pembulatan.\n"
   ]
  },
  {
   "cell_type": "markdown",
   "metadata": {},
   "source": [
    "untuk Kahan Summation, hanya mempengaruhi hasil pada data di float 32 dan tidak mempengaruhinya pad data dengan float 64. \n",
    "normalisasi merubah hasil memnjadi bentuk score normal atau zscore, hal tersebut mengurangi digit yang disimpan dan menambah akurasi data."
   ]
  },
  {
   "cell_type": "markdown",
   "metadata": {},
   "source": [
    "untuk mengurangi error dapat digunakan teknik:\n",
    "- melakukan normalisasi data sebelum analisis\n",
    "- menggunakan algoritma penjumlahan yang stabil, seperti kahan summation\n",
    "- menggunakan presisi yang tinggi, seperti float 64"
   ]
  }
 ],
 "metadata": {
  "kernelspec": {
   "display_name": "Python 3",
   "language": "python",
   "name": "python3"
  },
  "language_info": {
   "codemirror_mode": {
    "name": "ipython",
    "version": 3
   },
   "file_extension": ".py",
   "mimetype": "text/x-python",
   "name": "python",
   "nbconvert_exporter": "python",
   "pygments_lexer": "ipython3",
   "version": "3.13.2"
  }
 },
 "nbformat": 4,
 "nbformat_minor": 2
}
