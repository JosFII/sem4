{
 "cells": [
  {
   "cell_type": "markdown",
   "metadata": {},
   "source": [
    "# Monte Carlo Simulation\n",
    "\n",
    "### Sejarah\n",
    "\n",
    "Metode Monte Carlo pertama kali dikembangkan pada tahun 1940-an oleh ilmuwan seperti Stanislaw Ulam, John von Neumann, dan Nicholas Metropolis selama mereka bekerja pada proyek bom atom di Los Alamos National Laboratory. Nama \"Monte Carlo\" terinspirasi dari kasino terkenal di Monako, yang mengacu pada elemen keacakan (randomness) dalam metode ini, mirip seperti permainan judi. Metode ini awalnya digunakan untuk menyelesaikan masalah matematika dan fisika yang sulit dihitung secara analitis, seperti simulasi reaksi nuklir.\n",
    "\n",
    "Sejak itu, Monte Carlo Simulation telah menjadi alat yang luas digunakan di berbagai bidang seperti keuangan, teknik, fisika, dan ilmu data untuk memodelkan ketidakpastian dan mengestimasi hasil berdasarkan probabilitas."
   ]
  },
  {
   "cell_type": "markdown",
   "metadata": {},
   "source": [
    "### Penjelasan\n",
    "\n",
    "Monte Carlo Simulation adalah teknik komputasi yang menggunakan pengambilan sampel acak (random sampling) untuk memperkirakan hasil dari suatu proses atau sistem yang melibatkan ketidakpastian. Ide dasarnya adalah:\n",
    "\n",
    "Memodelkan sistem dengan variabel acak berdasarkan distribusi probabilitas tertentu.\n",
    "Menjalankan simulasi berulang kali (ribuan hingga jutaan iterasi) untuk menghasilkan distribusi hasil.\n",
    "Menganalisis hasil tersebut untuk mendapatkan estimasi statistik seperti rata-rata, varians, atau probabilitas kejadian tertentu.\n",
    "Metode ini sangat berguna ketika persamaan analitis sulit atau tidak mungkin diselesaikan secara langsung."
   ]
  },
  {
   "cell_type": "markdown",
   "metadata": {},
   "source": [
    "### Equation\n",
    "\n",
    "Monte Carlo tidak memiliki satu persamaan spesifik, tetapi bergantung pada distribusi probabilitas dan fungsi yang dimodelkan.\n",
    "\n",
    "Ekspektasi $ E[f(X)] $ dapat dihitung menggunakan pendekatan berikut:\n",
    "\n",
    "$$\n",
    "E[f(X)] \\approx \\frac{1}{N} \\sum_{i=1}^{N} f(x_i)\n",
    "$$\n",
    "\n",
    "Dimana:\n",
    "- $ N $: Jumlah simulasi (iterasi).\n",
    "- $ x_i $: Sampel acak yang diambil dari distribusi probabilitas $ X $.\n",
    "- $ f(x_i) $: Nilai fungsi pada setiap sampel.\n",
    "\n",
    "Penjelasan :\n",
    "1. **Sampel Acak**: Ambil $ N $ sampel acak $ x_1, x_2, \\ldots, x_N $ dari distribusi probabilitas $ X $.\n",
    "2. **Evaluasi Fungsi**: Hitung nilai fungsi $ f(x_i) $ untuk setiap sampel $ x_i $.\n",
    "3. **Rata-rata**: Hitung rata-rata dari semua nilai $ f(x_i) $ untuk mendekati nilai ekspektasi $ E[f(X)] $.\n",
    "\n",
    "Semakin besar jumlah simulasi $ N $, semakin akurat hasil estimasi Monte Carlo.\n",
    "\n",
    "\n",
    "Anda bisa menggunakan Monte Carlo dengan membandingkan titik acak di dalam lingkaran terhadap kotak yang membungkusnya."
   ]
  },
  {
   "cell_type": "markdown",
   "metadata": {},
   "source": [
    "---\n",
    "### Contoh 1: Keuangan\n",
    "\n",
    "Misalkan kita ingin menghitung probabilitas bahwa keuntungan investasi melebihi 10% berdasarkan data berikut:\n",
    "\n",
    "Keuntungan tahunan diasumsikan mengikuti distribusi normal dengan rata-rata (𝜇) 8% dan deviasi standar (𝜎) 5%.\n",
    "Jumlah simulasi: 10.000 iterasi."
   ]
  },
  {
   "cell_type": "code",
   "execution_count": null,
   "metadata": {
    "vscode": {
     "languageId": "r"
    }
   },
   "outputs": [],
   "source": [
    "# Set seed untuk reproducibility\n",
    "set.seed(123)\n",
    "\n",
    "# Parameter\n",
    "n_sim <- 10000  # Jumlah simulasi\n",
    "mean_return <- 0.08  # Rata-rata keuntungan (8%)\n",
    "sd_return <- 0.05    # Deviasi standar (5%)\n",
    "\n",
    "# Simulasi keuntungan acak dari distribusi normal\n",
    "returns <- rnorm(n_sim, mean = mean_return, sd = sd_return)\n",
    "\n",
    "# Hitung probabilitas keuntungan > 10%\n",
    "prob_above_10 <- mean(returns > 0.10)\n",
    "\n",
    "# Output\n",
    "cat(\"Probabilitas keuntungan > 10%:\", prob_above_10, \"\\n\")\n",
    "\n",
    "# Visualisasi\n",
    "hist(returns, breaks = 50, main = \"Distribusi Simulasi Keuntungan\", \n",
    "     xlab = \"Keuntungan\", col = \"lightblue\", probability = TRUE)\n",
    "abline(v = 0.10, col = \"red\", lwd = 2)"
   ]
  },
  {
   "cell_type": "markdown",
   "metadata": {},
   "source": [
    "Interpretasi Output di R\n",
    "- Probabilitas: Misalnya, output menunjukkan Probabilitas keuntungan > 10%: 0.344. Ini berarti ada peluang 34,4% bahwa keuntungan melebihi 10%.\n",
    "- Histogram: Distribusi keuntungan akan terlihat seperti kurva lonceng (normal), dengan garis vertikal merah pada 10% menunjukkan batas yang kita minati. Area di kanan garis ini adalah probabilitas yang dihitung."
   ]
  },
  {
   "cell_type": "code",
   "execution_count": null,
   "metadata": {},
   "outputs": [
    {
     "name": "stderr",
     "output_type": "stream",
     "text": [
      "\n",
      "KeyboardInterrupt\n",
      "\n"
     ]
    }
   ],
   "source": [
    "# untuk menghitung probabilitas di R\n",
    "mean(returns>0.1)"
   ]
  },
  {
   "cell_type": "markdown",
   "metadata": {},
   "source": [
    "DI R didapatkan probabilitas 0.3426 atau 34.26%"
   ]
  },
  {
   "cell_type": "code",
   "execution_count": 2,
   "metadata": {},
   "outputs": [
    {
     "name": "stdout",
     "output_type": "stream",
     "text": [
      "Probabilitas keuntungan > 10%: 0.348\n"
     ]
    },
    {
     "data": {
      "image/png": "[encoded data removed]",
      "text/plain": [
       "<Figure size 640x480 with 1 Axes>"
      ]
     },
     "metadata": {},
     "output_type": "display_data"
    }
   ],
   "source": [
    "import numpy as np\n",
    "import matplotlib.pyplot as plt\n",
    "\n",
    "# Set seed untuk reproducibility\n",
    "np.random.seed(123)\n",
    "\n",
    "# Parameter\n",
    "n_sim = 10000  # Jumlah simulasi\n",
    "mean_return = 0.08  # Rata-rata keuntungan (8%)\n",
    "sd_return = 0.05    # Deviasi standar (5%)\n",
    "\n",
    "# Simulasi keuntungan acak dari distribusi normal\n",
    "returns = np.random.normal(mean_return, sd_return, n_sim)\n",
    "\n",
    "# Hitung probabilitas keuntungan > 10%\n",
    "prob_above_10 = np.mean(returns > 0.10)\n",
    "\n",
    "# Output\n",
    "print(f\"Probabilitas keuntungan > 10%: {prob_above_10:.3f}\")\n",
    "\n",
    "# Visualisasi\n",
    "plt.hist(returns, bins=50, density=True, color='lightblue', alpha=0.7)\n",
    "plt.axvline(x=0.10, color='red', linewidth=2)\n",
    "plt.title('Distribusi Simulasi Keuntungan')\n",
    "plt.xlabel('Keuntungan')\n",
    "plt.ylabel('Densitas')\n",
    "plt.show()"
   ]
  },
  {
   "cell_type": "markdown",
   "metadata": {},
   "source": [
    "Interpretasi Output di Jupyter\n",
    "- Probabilitas: Output mungkin menunjukkan Probabilitas keuntungan > 10%: 0.344. Artinya, ada peluang 34,4% keuntungan melebihi 10%, konsisten dengan hasil R.\n",
    "- Histogram: Grafik menunjukkan distribusi keuntungan dengan garis merah pada 10%. Area di sebelah kanan garis mencerminkan probabilitas yang dihitung."
   ]
  },
  {
   "cell_type": "code",
   "execution_count": 3,
   "metadata": {},
   "outputs": [
    {
     "data": {
      "text/plain": [
       "0.3484"
      ]
     },
     "execution_count": 3,
     "metadata": {},
     "output_type": "execute_result"
    }
   ],
   "source": [
    "# untuk menghitung probabilitas di pyton\n",
    "np.mean(returns>0.1)"
   ]
  },
  {
   "cell_type": "markdown",
   "metadata": {},
   "source": [
    "Jadi didapat kanprobabilitas sebesar 0.3484 atau 34.84%"
   ]
  },
  {
   "cell_type": "markdown",
   "metadata": {},
   "source": [
    "---\n",
    "### Contoh 2: Manufaktur\n",
    "\n",
    "Sebuah pabrik memiliki 3 tahap produksi: Pemesinan, Perakitan, dan Pengujian. Waktu untuk setiap tahap bervariasi karena faktor ketidakpastian (misalnya, kerusakan mesin, variasi tenaga kerja). Kita ingin menghitung:\n",
    "\n",
    "- Distribusi waktu total produksi.\n",
    "- Probabilitas bahwa waktu total melebihi 50 jam.\n",
    "\n",
    "Data Asumsi:\n",
    "\n",
    "- Pemesinan: Distribusi normal, rata-rata 15 jam, deviasi standar 3 jam.\n",
    "- Perakitan: Distribusi normal, rata-rata 20 jam, deviasi standar 4 jam.\n",
    "- Pengujian: Distribusi normal, rata-rata 10 jam, deviasi standar 2 jam.\n",
    "- Jumlah simulasi: 10.000 iterasi."
   ]
  },
  {
   "cell_type": "code",
   "execution_count": null,
   "metadata": {
    "vscode": {
     "languageId": "r"
    }
   },
   "outputs": [],
   "source": [
    "# Set seed untuk reproducibility\n",
    "set.seed(123)\n",
    "\n",
    "# Parameter\n",
    "n_sim <- 10000\n",
    "mean_machining <- 15  # Rata-rata pemesinan\n",
    "sd_machining <- 3     # Deviasi standar pemesinan\n",
    "mean_assembly <- 20   # Rata-rata perakitan\n",
    "sd_assembly <- 4      # Deviasi standar perakitan\n",
    "mean_testing <- 10    # Rata-rata pengujian\n",
    "sd_testing <- 2       # Deviasi standar pengujian\n",
    "\n",
    "# Simulasi waktu untuk setiap tahap\n",
    "machining_time <- rnorm(n_sim, mean = mean_machining, sd = sd_machining)\n",
    "assembly_time <- rnorm(n_sim, mean = mean_assembly, sd = sd_assembly)\n",
    "testing_time <- rnorm(n_sim, mean = mean_testing, sd = sd_testing)\n",
    "\n",
    "# Waktu total produksi\n",
    "total_time <- machining_time + assembly_time + testing_time\n",
    "\n",
    "# Hitung probabilitas waktu total > 50 jam\n",
    "prob_above_50 <- mean(total_time > 50)\n",
    "\n",
    "# Statistik ringkasan\n",
    "mean_total <- mean(total_time)\n",
    "sd_total <- sd(total_time)\n",
    "\n",
    "# Output\n",
    "cat(\"Rata-rata waktu total:\", round(mean_total, 2), \"jam\\n\")\n",
    "cat(\"Deviasi standar waktu total:\", round(sd_total, 2), \"jam\\n\")\n",
    "cat(\"Probabilitas waktu total > 50 jam:\", round(prob_above_50, 3), \"\\n\")\n",
    "\n",
    "# Visualisasi\n",
    "hist(total_time, breaks = 50, main = \"Distribusi Waktu Total Produksi\", \n",
    "     xlab = \"Waktu Total (jam)\", col = \"lightgreen\", probability = TRUE)\n",
    "abline(v = 50, col = \"red\", lwd = 2)"
   ]
  },
  {
   "cell_type": "markdown",
   "metadata": {},
   "source": [
    "-- analisa joseph -- </br>\n",
    "Jadi dari hasil simulasi kita dapatkan bahwa mean total waktunya 44.94 jam dengan standar deviasi 5.42 jam. jadi bisa dibilang mean dan sd simulasi hampir sama dengan mean dan sd input. </br>\n",
    "Hasil histogram berbentuk distribusi normal </br>\n",
    "untuk probabilitas waktu total > 50 didapatkan 0.18 atau 18% </br>"
   ]
  },
  {
   "cell_type": "markdown",
   "metadata": {},
   "source": []
  },
  {
   "cell_type": "markdown",
   "metadata": {},
   "source": [
    "Interpretasi Output di R\n",
    "Misalkan hasilnya:\n",
    "\n",
    "- Rata-rata waktu total: 45.02 jam\n",
    "- Deviasi standar waktu total: 5.39 jam\n",
    "- Probabilitas waktu total > 50 jam: 0.175\n",
    "\n",
    "Maka:\n",
    "\n",
    "1. **Rata-rata Waktu Total**:  \n",
    "   Rata-rata waktu total adalah **45.02 jam**, yang sesuai dengan jumlah rata-rata tahap:  \n",
    "   $$\n",
    "   15 + 20 + 10 = 45 \\, \\text{jam}.\n",
    "   $$  \n",
    "   Ini menunjukkan bahwa simulasi konsisten dengan input.\n",
    "\n",
    "2. **Deviasi Standar**:  \n",
    "   Deviasi standar waktu total adalah **5.39 jam**, yang mencerminkan variabilitas gabungan dari ketiga tahap. Deviasi standar ini dihitung sebagai akar dari jumlah kuadrat deviasi standar masing-masing tahap:  \n",
    "   $$\n",
    "   \\sqrt{3^2 + 4^2 + 2^2} \\approx 5.39.\n",
    "   $$\n",
    "\n",
    "3. **Probabilitas > 50 Jam**:  \n",
    "   Probabilitas bahwa proses produksi akan memakan waktu lebih dari **50 jam** adalah **17.5%**. Hal ini berarti ada peluang sebesar 17.5% bahwa waktu produksi melebihi batas kritis 50 jam, yang dapat menjadi perhatian dalam perencanaan jadwal.\n",
    "\n",
    "4. **Histogram**:  \n",
    "   Distribusi waktu total akan menyerupai **kurva normal**. Pada histogram, garis merah ditarik pada **50 jam** untuk menunjukkan batas kritis. Area di kanan garis merah merepresentasikan probabilitas **17.5%**.\n",
    "\n",
    "Kesimpulan:\n",
    "\n",
    "- Simulasi memberikan hasil yang konsisten dengan input rata-rata dan deviasi standar.\n",
    "- Probabilitas waktu produksi melebihi 50 jam (**17.5%**) dapat digunakan sebagai dasar untuk mengidentifikasi risiko dan menyesuaikan jadwal produksi.\n",
    "- Histogram memberikan visualisasi yang membantu dalam memahami distribusi waktu total dan probabilitas kejadian di atas batas kritis."
   ]
  },
  {
   "cell_type": "code",
   "execution_count": 5,
   "metadata": {},
   "outputs": [
    {
     "name": "stdout",
     "output_type": "stream",
     "text": [
      "Rata-rata waktu total: 45.07 jam\n",
      "Deviasi standar waktu total: 5.35 jam\n",
      "Probabilitas waktu total > 50 jam: 0.179\n"
     ]
    },
    {
     "data": {
      "image/png": "[encoded data removed]",
      "text/plain": [
       "<Figure size 640x480 with 1 Axes>"
      ]
     },
     "metadata": {},
     "output_type": "display_data"
    }
   ],
   "source": [
    "import numpy as np\n",
    "import matplotlib.pyplot as plt\n",
    "\n",
    "# Set seed untuk reproducibility\n",
    "np.random.seed(123)\n",
    "\n",
    "# Parameter\n",
    "n_sim = 10000\n",
    "mean_machining = 15  # Rata-rata pemesinan\n",
    "sd_machining = 3     # Deviasi standar pemesinan\n",
    "mean_assembly = 20   # Rata-rata perakitan\n",
    "sd_assembly = 4      # Deviasi standar perakitan\n",
    "mean_testing = 10    # Rata-rata pengujian\n",
    "sd_testing = 2       # Deviasi standar pengujian\n",
    "\n",
    "# Simulasi waktu untuk setiap tahap\n",
    "machining_time = np.random.normal(mean_machining, sd_machining, n_sim)\n",
    "assembly_time = np.random.normal(mean_assembly, sd_assembly, n_sim)\n",
    "testing_time = np.random.normal(mean_testing, sd_testing, n_sim)\n",
    "\n",
    "# Waktu total produksi\n",
    "total_time = machining_time + assembly_time + testing_time\n",
    "\n",
    "# Hitung probabilitas waktu total > 50 jam\n",
    "prob_above_50 = np.mean(total_time > 50)\n",
    "\n",
    "# Statistik ringkasan\n",
    "mean_total = np.mean(total_time)\n",
    "sd_total = np.std(total_time)\n",
    "\n",
    "# Output\n",
    "print(f\"Rata-rata waktu total: {mean_total:.2f} jam\")\n",
    "print(f\"Deviasi standar waktu total: {sd_total:.2f} jam\")\n",
    "print(f\"Probabilitas waktu total > 50 jam: {prob_above_50:.3f}\")\n",
    "\n",
    "# Visualisasi\n",
    "plt.hist(total_time, bins=50, density=True, color='lightgreen', alpha=0.7)\n",
    "plt.axvline(x=50, color='red', linewidth=2)\n",
    "plt.title('Distribusi Waktu Total Produksi')\n",
    "plt.xlabel('Waktu Total (jam)')\n",
    "plt.ylabel('Densitas')\n",
    "plt.show()"
   ]
  },
  {
   "cell_type": "markdown",
   "metadata": {},
   "source": [
    "-- analisa joseph -- </br>\n",
    "Jadi dari hasil simulasi kita dapatkan bahwa mean total waktunya 45.07 jam dengan standar deviasi 5.35 jam. jadi bisa dibilang mean dan sd simulasi hampir sama dengan mean dan sd input. </br>\n",
    "Hasil histogram berbentuk distribusi normal </br>\n",
    "untuk probabilitas waktu total > 50 didapatkan 0.179 atau 17.9% </br>"
   ]
  },
  {
   "cell_type": "markdown",
   "metadata": {},
   "source": [
    "Interpretasi output Python\n",
    "\n",
    "Misalkan hasil simulasi memberikan output berikut:\n",
    "- Rata-rata waktu total: 45.02 jam\n",
    "- Deviasi standar waktu total: 5.39 jam\n",
    "- Probabilitas waktu total > 50 jam: 0.175\n",
    "\n",
    "### Analisis Hasil:\n",
    "- **Rata-rata Waktu Total**:  \n",
    "  Rata-rata waktu total adalah **45.02 jam**, yang konsisten dengan harapan teoritis dari jumlah rata-rata ketiga tahap:  \n",
    "  $$\n",
    "  15 + 20 + 10 = 45 \\, \\text{jam}.\n",
    "  $$  \n",
    "  Ini menunjukkan bahwa hasil simulasi sesuai dengan input yang diberikan.\n",
    "\n",
    "- **Deviasi Standar**:  \n",
    "  Deviasi standar waktu total adalah **5.39 jam**, mencerminkan variabilitas gabungan dari ketiga tahap. Nilai ini sesuai dengan perhitungan teoritis:  \n",
    "  $$\n",
    "  \\sqrt{3^2 + 4^2 + 2^2} \\approx 5.39.\n",
    "  $$\n",
    "\n",
    "- **Probabilitas > 50 Jam**:  \n",
    "  Probabilitas bahwa waktu produksi melebihi **50 jam** adalah **17.5%**, sama dengan hasil simulasi sebelumnya. Ini menunjukkan bahwa ada risiko **17.5%** jadwal produksi melampaui batas kritis 50 jam.\n",
    "\n",
    "- **Histogram**:  \n",
    "  Grafik histogram menunjukkan distribusi waktu total yang mendekati **normal**. Garis merah pada **50 jam** menandai batas kritis. Area di kanan garis tersebut adalah **17.5%**, memberikan gambaran visual tentang risiko keterlambatan.\n",
    "\n",
    "Relevansi untuk Manufaktur\n",
    "\n",
    "#### Perencanaan:\n",
    "- Probabilitas **17.5%** bahwa waktu produksi melebihi **50 jam** dapat digunakan untuk menentukan **buffer waktu** atau mengevaluasi kebutuhan sumber daya tambahan. Misalnya, manajer dapat mempertimbangkan untuk menambah waktu cadangan atau tenaga kerja untuk mengurangi risiko keterlambatan.\n",
    "\n",
    "#### Analisis Risiko:\n",
    "- Distribusi waktu total membantu mengidentifikasi skenario terburuk, seperti waktu maksimum dari simulasi. Informasi ini penting untuk mempersiapkan mitigasi risiko dan strategi darurat.\n",
    "\n",
    "#### Optimasi:\n",
    "- Jika probabilitas **17.5%** dianggap terlalu tinggi, manajer dapat menyelidiki tahap mana yang paling berkontribusi pada variabilitas. Dalam kasus ini, tahap **perakitan** memiliki deviasi standar tertinggi (**4 jam**), sehingga menjadi area utama untuk perbaikan.\n",
    "\n",
    "#### Kesimpulan\n",
    "\n",
    "Simulasi Monte Carlo memberikan wawasan yang berguna untuk perencanaan dan pengambilan keputusan dalam manufaktur:\n",
    "- Hasil simulasi konsisten dengan harapan teoritis.\n",
    "- Probabilitas **17.5%** risiko keterlambatan (> 50 jam) dapat digunakan untuk mengidentifikasi buffer waktu dan kebutuhan sumber daya.\n",
    "- Analisis distribusi waktu total membantu memahami risiko dan mengoptimalkan proses produksi."
   ]
  }
 ],
 "metadata": {
  "kernelspec": {
   "display_name": "Python 3",
   "language": "python",
   "name": "python3"
  },
  "language_info": {
   "codemirror_mode": {
    "name": "ipython",
    "version": 3
   },
   "file_extension": ".py",
   "mimetype": "text/x-python",
   "name": "python",
   "nbconvert_exporter": "python",
   "pygments_lexer": "ipython3",
   "version": "3.11.2"
  }
 },
 "nbformat": 4,
 "nbformat_minor": 2
}
